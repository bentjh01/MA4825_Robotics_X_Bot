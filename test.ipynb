{
 "cells": [
  {
   "cell_type": "code",
   "execution_count": 2,
   "metadata": {},
   "outputs": [
    {
     "name": "stdout",
     "output_type": "stream",
     "text": [
      "0.005061454830783555\n"
     ]
    }
   ],
   "source": [
    "import math\n",
    "\n",
    "print(0.29/180*math.pi)"
   ]
  },
  {
   "cell_type": "code",
   "execution_count": 30,
   "metadata": {},
   "outputs": [
    {
     "name": "stdout",
     "output_type": "stream",
     "text": [
      "0.0\n"
     ]
    }
   ],
   "source": [
    "import numpy as np\n",
    "boundary = 0.111*1023\n",
    "degree = np.interp(0, [0,1023], [0, boundary])\n",
    "degree = round(degree/0.29) * 0.29\n",
    "print(degree)"
   ]
  },
  {
   "cell_type": "code",
   "execution_count": 2,
   "metadata": {},
   "outputs": [],
   "source": [
    "import matplotlib.pyplot as plt\n",
    "import numpy as np"
   ]
  },
  {
   "cell_type": "code",
   "execution_count": 3,
   "metadata": {},
   "outputs": [],
   "source": [
    "def radian__2__degree(radian:float):\n",
    "    if radian is None:\n",
    "        print(f'Received {type(radian)}, Expected float')\n",
    "        return\n",
    "    degree = radian/math.pi * 180\n",
    "    return float(degree)\n",
    "\n",
    "def degree__2__radian(degree:float):\n",
    "    if degree is None:\n",
    "        print(f'Received {type(float)}, Expected float')\n",
    "        return\n",
    "    radian = degree/180 * math.pi\n",
    "    return float(radian)\n",
    "\n",
    "def rpm__2__radian_second(rpm):\n",
    "    radian_second = rpm/60*math.pi\n",
    "    return float(radian_second)\n",
    "\n",
    "def radian_second__2__rpm(radian_second):\n",
    "    rpm = radian_second*60/math.pi\n",
    "    return float(rpm)\n",
    "\n",
    "def radian2uint10(radian):\n",
    "    degree = radian__2__degree(radian)\n",
    "    uint10 = round(degree/0.29)\n",
    "    return int(uint10)\n",
    "\n",
    "def uint102radian(uint10):\n",
    "    degree = np.interp(uint10, [0,1023], [-148.19, 148.19])\n",
    "    radian = round(degree__2__radian(round(round(degree/0.29)*0.29,2)),4)\n",
    "    return float(radian)\n",
    "\n",
    "def radian_second2uint10(radian_second):\n",
    "    rpm = rpm__2__radian_second(radian_second)\n",
    "    uint10 = round(rpm/0.111)\n",
    "    return int(uint10)\n",
    "\n",
    "def uint102radian_second(uint10):\n",
    "    rpm = np.interp(uint10, [0,1023], [0, 113.553])\n",
    "    radian_second = round(radian_second__2__rpm(rpm), 2)\n",
    "    return float(radian_second)"
   ]
  },
  {
   "cell_type": "code",
   "execution_count": null,
   "metadata": {},
   "outputs": [],
   "source": [
    "# joint_minmax\n",
    "joint_1 = [0, 1023]\n",
    "joint_2 = [168, 870]\n",
    "joint_3 = [39, 994]\n",
    "joint_4 = [226, 1023]\n",
    "joint_5 = [0, 1023]"
   ]
  }
 ],
 "metadata": {
  "kernelspec": {
   "display_name": "Python 3",
   "language": "python",
   "name": "python3"
  },
  "language_info": {
   "codemirror_mode": {
    "name": "ipython",
    "version": 3
   },
   "file_extension": ".py",
   "mimetype": "text/x-python",
   "name": "python",
   "nbconvert_exporter": "python",
   "pygments_lexer": "ipython3",
   "version": "3.10.12"
  }
 },
 "nbformat": 4,
 "nbformat_minor": 2
}
